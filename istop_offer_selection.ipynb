{
 "nbformat": 4,
 "nbformat_minor": 0,
 "metadata": {
  "colab": {
   "provenance": [],
   "collapsed_sections": [],
   "authorship_tag": "ABX9TyNk+RGQTUs2s7G+T6Eqq0Xd"
  },
  "kernelspec": {
   "name": "python3",
   "display_name": "Python 3"
  },
  "language_info": {
   "name": "python"
  }
 },
 "cells": [
  {
   "cell_type": "markdown",
   "metadata": {
    "id": "gz7OP9pXspON"
   },
   "source": [
    "# Flights' delay problem\n",
    "\n",
    "<img src=\"https://drive.google.com/uc?export=view&id=1xrvWM5Nfy38NgrWtKjf9dxZHgr-zDHHL\" width=500>\n",
    "\n"
   ]
  },
  {
   "cell_type": "markdown",
   "metadata": {
    "id": "DWYYNWV8vYTl"
   },
   "source": [
    "Is the original order the most convenient now?\n",
    "Can we reduce the overall costs condidering that no flight can arrive earlier than its *expected arrival time* (ETA)?\n"
   ]
  },
  {
   "cell_type": "code",
   "metadata": {
    "id": "GM7ZgBgKfwBg",
    "colab": {
     "base_uri": "https://localhost:8080/"
    },
    "executionInfo": {
     "status": "ok",
     "timestamp": 1624857420561,
     "user_tz": -120,
     "elapsed": 2884,
     "user": {
      "displayName": "Andrea Gasparin",
      "photoUrl": "https://lh3.googleusercontent.com/a-/AOh14GgnDTEgRUreNxOUjMMsK24ETfnxobKgm1my6nPZEg=s64",
      "userId": "15020731284094189533"
     }
    },
    "outputId": "f4b2d827-c398-473c-f3da-e70c77ca2ec5"
   },
   "source": [
    "import gurobipy as gb\n",
    "import numpy as np\n",
    "import matplotlib.pyplot as plt"
   ],
   "execution_count": 15,
   "outputs": []
  },
  {
   "cell_type": "code",
   "metadata": {
    "id": "u55I59tqfJ4u"
   },
   "source": [
    "class Flight:\n",
    "\n",
    "  def __init__(self, index, airline, cost_coefficient, cost_kind = \"quad\"):\n",
    "\n",
    "    self.name = \"F\" + airline.name + str(index)\n",
    "    self.airline = airline\n",
    "    self.airline.flights.append(self)\n",
    "    self.index = index\n",
    "    self.cost = cost_coefficient\n",
    "    self.eta = index\n",
    "    self.sol = None\n",
    "    if cost_kind == \"quad\":\n",
    "      cost_fun = lambda delay: 0 if delay<0 else self.cost * delay**2\n",
    "    else:\n",
    "      cost_fun = lambda delay: 0 if delay<0 else self.cost * delay\n",
    "    self.costVect = np.array([cost_fun(t - self.eta) for t in np.arange(0,40,2)])\n",
    "\n",
    "  def __repr__(self):\n",
    "    return self.name\n",
    "\n",
    "  def __str__(self):\n",
    "    return self.name"
   ],
   "execution_count": 42,
   "outputs": []
  },
  {
   "cell_type": "code",
   "metadata": {
    "id": "9rHNLNEEGWN5"
   },
   "source": [
    "class Airline:\n",
    "  def __init__(self, name):\n",
    "    self.name = name\n",
    "    self.initial_costs = None\n",
    "    self.final_costs = None\n",
    "    self.reduction = None\n",
    "    self.reduction_percentage = None\n",
    "    self.flights = []\n",
    "\n",
    "  def compute_costs(self):\n",
    "    self.initial_costs = sum([flight.costVect[flight.index] for flight in self.flights])\n",
    "    self.final_costs = sum([flight.costVect[flight.sol] for flight in self.flights])\n",
    "    self.reduction = self.final_costs- self.initial_costs\n",
    "    self.reduction_percentage =  self.reduction/self.initial_costs"
   ],
   "execution_count": 52,
   "outputs": []
  },
  {
   "cell_type": "code",
   "metadata": {
    "id": "zWZcvu8kS_r3"
   },
   "source": [
    "def initial_costs(flights):\n",
    "  return sum([flight.costVect[flight.eta] for flight in flights])\n",
    "\n",
    "def make_flights(airlines_names, cost_coefficients, cost_kind=\"quad\", show=False):\n",
    "  airlines = [Airline(air_name) for air_name in np.unique(airlines_names)]\n",
    "  airlines_dict = dict(zip([air.name for air in airlines], airlines))\n",
    "  flights = []\n",
    "  for i in range(len(airlines_names)):\n",
    "    flights.append(Flight(i, airlines_dict[airlines_names[i]], cost_coefficients[i], cost_kind))\n",
    "  if show: \n",
    "    for flight in flights:\n",
    "      print(flight, flight.airline, flight.index, flight.cost, flight.eta)\n",
    "  return flights, airlines"
   ],
   "execution_count": 53,
   "outputs": []
  },
  {
   "cell_type": "code",
   "metadata": {
    "id": "NkwVY7uKg9B7",
    "colab": {
     "base_uri": "https://localhost:8080/"
    },
    "executionInfo": {
     "status": "ok",
     "timestamp": 1624857862835,
     "user_tz": -120,
     "elapsed": 5,
     "user": {
      "displayName": "Andrea Gasparin",
      "photoUrl": "https://lh3.googleusercontent.com/a-/AOh14GgnDTEgRUreNxOUjMMsK24ETfnxobKgm1my6nPZEg=s64",
      "userId": "15020731284094189533"
     }
    },
    "outputId": "6af44f5b-6e99-4054-d901-0474134db687"
   },
   "source": [],
   "execution_count": 53,
   "outputs": []
  },
  {
   "cell_type": "code",
   "metadata": {
    "id": "TQvw5AjqwBYB"
   },
   "source": [
    "from gurobipy import GRB, quicksum\n",
    "\n",
    "\n",
    "class Mincost:\n",
    "  def __init__(self, flights, airlines, slots, nnb=False):\n",
    "    self.p = gb.Model()\n",
    "    self.p.modelSense = GRB.MAXIMIZE\n",
    "    self.airlines = airlines\n",
    "    self.p.setParam('OutputFlag', 0) # quite logs\n",
    "    self.x = self.p.addVars([(flight.index, j) for j in slots for flight in flights], vtype=GRB.BINARY)\n",
    "    self.nnb = nnb\n",
    "    self.reduction = None\n",
    "\n",
    "\n",
    "  def set_constraints(self):\n",
    "\n",
    "    for flight in flights:\n",
    "      self.p.addConstr(\n",
    "          quicksum(self.x[flight.index, j] for j in slots) == 1\n",
    "      )\n",
    "      self.p.addConstr(\n",
    "          quicksum(self.x[flight.index, j] for j in slots if new_slot_time[j] < flight.eta) == 0\n",
    "      )\n",
    "\n",
    "    for j in slots:\n",
    "      self.p.addConstr(\n",
    "          quicksum(self.x[flight.index, j] for flight in flights) <=1\n",
    "      )\n",
    "\n",
    "    if self.nnb:\n",
    "      for air in self.airlines:\n",
    "        self.p.addConstr(\n",
    "            quicksum(self.x[flight.index,j]*flight.costVect[j] for flight in air.flights for j in slots ) <=  sum([flight.costVect[flight.index] for flight in air.flights])\n",
    "        )\n",
    "\n",
    "  def set_objective(self):\n",
    "\n",
    "    self.p.setObjective(\n",
    "        quicksum( self.x[flight.index, j]*flight.costVect[j] for flight in flights for j in slots)\n",
    "    )\n",
    "\n",
    "  def solve(self):\n",
    "    self.set_constraints()\n",
    "    self.set_objective()\n",
    "    self.p.optimize()\n",
    "\n",
    "    for j in slots:\n",
    "      for flight in flights:\n",
    "        if round(self.x[flight.index, j].x) == 1:\n",
    "          flight.sol = j\n",
    "          print(flight, flight.cost, j, flight.airline, j*2 - flight.eta) \n",
    "\n",
    "    total_init = sum([flight.costVect[flight.index] for flight in flights])\n",
    "    total_final = self.p.objVal\n",
    "    total_reduction = (total_init - total_final)/total_init\n",
    "\n",
    "    print(\"\\nininital cost:\", total_init, )\n",
    "    print(\"final cost:\", total_final)\n",
    "    print(\"reduction\", total_reduction, \"\\n\")\n",
    "\n",
    "    airs = []\n",
    "    for air in self.airlines:\n",
    "      air.compute_costs()\n",
    "\n",
    "    for air in airs:\n",
    "      print(air.name, air.initial_costs, air.final_costs)\n",
    "    self.reduction = total_reduction"
   ],
   "execution_count": 54,
   "outputs": []
  },
  {
   "cell_type": "code",
   "execution_count": 55,
   "outputs": [
    {
     "name": "stdout",
     "output_type": "stream",
     "text": [
      "[ 0  2  4  6  8 10 12 14 16 18 20 22 24 26 28]\n"
     ]
    }
   ],
   "source": [
    "cost_coefficients = np.array([8,1,6,5,10,7,4,2,10,3,21,9,11,2,15])\n",
    "\n",
    "airlines_name = [\"A\",\"C\",\"B\",\"A\",\"B\",\"A\",\"B\",\"C\",\"B\",\"C\",\"A\",\"A\",\"B\",\"C\",\"A\"]\n",
    "\n",
    "num_flights = len(airlines_name)\n",
    "\n",
    "slots = range(num_flights)\n",
    "new_slot_time = np.array(np.arange(0,num_flights*2,2))\n",
    "print(new_slot_time)\n",
    "\n",
    "flights, airline_list = make_flights(airlines_name, cost_coefficients)"
   ],
   "metadata": {
    "collapsed": false
   }
  },
  {
   "cell_type": "code",
   "execution_count": 56,
   "outputs": [
    {
     "name": "stdout",
     "output_type": "stream",
     "text": [
      "FA0 8 0 <__main__.Airline object at 0x7f847d334d00> 0\n",
      "FC1 1 1 <__main__.Airline object at 0x7f847d334ca0> 1\n",
      "FA3 5 2 <__main__.Airline object at 0x7f847d334d00> 1\n",
      "FB6 4 3 <__main__.Airline object at 0x7f847d334160> 0\n",
      "FC7 2 4 <__main__.Airline object at 0x7f847d334ca0> 1\n",
      "FC9 3 5 <__main__.Airline object at 0x7f847d334ca0> 1\n",
      "FB12 11 6 <__main__.Airline object at 0x7f847d334160> 0\n",
      "FC13 2 7 <__main__.Airline object at 0x7f847d334ca0> 1\n",
      "FA14 15 8 <__main__.Airline object at 0x7f847d334d00> 2\n",
      "FA11 9 9 <__main__.Airline object at 0x7f847d334d00> 7\n",
      "FA5 7 10 <__main__.Airline object at 0x7f847d334d00> 15\n",
      "FB2 6 11 <__main__.Airline object at 0x7f847d334160> 20\n",
      "FB8 10 12 <__main__.Airline object at 0x7f847d334160> 16\n",
      "FB4 10 13 <__main__.Airline object at 0x7f847d334160> 22\n",
      "FA10 21 14 <__main__.Airline object at 0x7f847d334d00> 18\n",
      "\n",
      "ininital cost: 9581\n",
      "final cost: 18693.0\n",
      "reduction -0.951048951048951 \n",
      "\n",
      "FA0 8 0 <__main__.Airline object at 0x7f847d334d00> 0\n",
      "FC1 1 1 <__main__.Airline object at 0x7f847d334ca0> 1\n",
      "FB2 6 2 <__main__.Airline object at 0x7f847d334160> 2\n",
      "FA3 5 3 <__main__.Airline object at 0x7f847d334d00> 3\n",
      "FB4 10 4 <__main__.Airline object at 0x7f847d334160> 4\n",
      "FA5 7 5 <__main__.Airline object at 0x7f847d334d00> 5\n",
      "FB6 4 6 <__main__.Airline object at 0x7f847d334160> 6\n",
      "FC7 2 7 <__main__.Airline object at 0x7f847d334ca0> 7\n",
      "FB8 10 8 <__main__.Airline object at 0x7f847d334160> 8\n",
      "FC9 3 9 <__main__.Airline object at 0x7f847d334ca0> 9\n",
      "FA10 21 10 <__main__.Airline object at 0x7f847d334d00> 10\n",
      "FA11 9 11 <__main__.Airline object at 0x7f847d334d00> 11\n",
      "FB12 11 12 <__main__.Airline object at 0x7f847d334160> 12\n",
      "FC13 2 13 <__main__.Airline object at 0x7f847d334ca0> 13\n",
      "FA14 15 14 <__main__.Airline object at 0x7f847d334d00> 14\n",
      "\n",
      "ininital cost: 9581\n",
      "final cost: 9581.0\n",
      "reduction 0.0 \n",
      "\n"
     ]
    }
   ],
   "source": [
    "min_cost = Mincost(flights, airline_list, slots)\n",
    "min_cost.solve()\n",
    "nnb = Mincost(flights, airline_list, slots, nnb = True)\n",
    "nnb.solve()"
   ],
   "metadata": {
    "collapsed": false
   }
  },
  {
   "cell_type": "markdown",
   "metadata": {
    "id": "NNFdmOMkS0tg"
   },
   "source": [
    "#Change schedule"
   ]
  }
 ]
}
